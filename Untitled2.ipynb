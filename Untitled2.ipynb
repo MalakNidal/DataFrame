{
 "cells": [
  {
   "cell_type": "code",
   "execution_count": 1,
   "metadata": {},
   "outputs": [],
   "source": [
    "import numpy as np\n",
    "import pandas as pd"
   ]
  },
  {
   "cell_type": "code",
   "execution_count": 2,
   "metadata": {},
   "outputs": [],
   "source": [
    "Rate = 10\n",
    "DerevativeT = 1/rate\n",
    "Freq = 1.5"
   ]
  },
  {
   "cell_type": "code",
   "execution_count": 3,
   "metadata": {},
   "outputs": [],
   "source": [
    "Data = 2*np.pi*Freq\n"
   ]
  },
  {
   "cell_type": "code",
   "execution_count": 4,
   "metadata": {},
   "outputs": [],
   "source": [
    "x = np.arange(0,10,DerevativeT)\n",
    "y = np.sin(Data*x)\n",
    "z = np.cos(Data*x)"
   ]
  },
  {
   "cell_type": "code",
   "execution_count": 5,
   "metadata": {},
   "outputs": [],
   "source": [
    "df = pd.DataFrame({'Time':x, 'YVals':y, 'ZVals':z})"
   ]
  },
  {
   "cell_type": "code",
   "execution_count": 8,
   "metadata": {},
   "outputs": [
    {
     "name": "stdout",
     "output_type": "stream",
     "text": [
      "    Time         YVals         ZVals\n",
      "0    0.0  0.000000e+00  1.000000e+00\n",
      "1    0.1  8.090170e-01  5.877853e-01\n",
      "2    0.2  9.510565e-01 -3.090170e-01\n",
      "3    0.3  3.090170e-01 -9.510565e-01\n",
      "4    0.4 -5.877853e-01 -8.090170e-01\n",
      "5    0.5 -1.000000e+00 -1.836970e-16\n",
      "6    0.6 -5.877853e-01  8.090170e-01\n",
      "7    0.7  3.090170e-01  9.510565e-01\n",
      "8    0.8  9.510565e-01  3.090170e-01\n",
      "9    0.9  8.090170e-01 -5.877853e-01\n",
      "10   1.0  3.673940e-16 -1.000000e+00\n",
      "11   1.1 -8.090170e-01 -5.877853e-01\n",
      "12   1.2 -9.510565e-01  3.090170e-01\n",
      "13   1.3 -3.090170e-01  9.510565e-01\n",
      "14   1.4  5.877853e-01  8.090170e-01\n",
      "15   1.5  1.000000e+00  5.510911e-16\n",
      "16   1.6  5.877853e-01 -8.090170e-01\n",
      "17   1.7 -3.090170e-01 -9.510565e-01\n",
      "18   1.8 -9.510565e-01 -3.090170e-01\n",
      "19   1.9 -8.090170e-01  5.877853e-01\n",
      "20   2.0 -7.347881e-16  1.000000e+00\n",
      "21   2.1  8.090170e-01  5.877853e-01\n",
      "22   2.2  9.510565e-01 -3.090170e-01\n",
      "23   2.3  3.090170e-01 -9.510565e-01\n",
      "24   2.4 -5.877853e-01 -8.090170e-01\n",
      "25   2.5 -1.000000e+00 -2.694842e-15\n",
      "26   2.6 -5.877853e-01  8.090170e-01\n",
      "27   2.7  3.090170e-01  9.510565e-01\n",
      "28   2.8  9.510565e-01  3.090170e-01\n",
      "29   2.9  8.090170e-01 -5.877853e-01\n",
      "..   ...           ...           ...\n",
      "70   7.0 -9.809554e-16 -1.000000e+00\n",
      "71   7.1 -8.090170e-01 -5.877853e-01\n",
      "72   7.2 -9.510565e-01  3.090170e-01\n",
      "73   7.3 -3.090170e-01  9.510565e-01\n",
      "74   7.4  5.877853e-01  8.090170e-01\n",
      "75   7.5  1.000000e+00  9.790985e-16\n",
      "76   7.6  5.877853e-01 -8.090170e-01\n",
      "77   7.7 -3.090170e-01 -9.510565e-01\n",
      "78   7.8 -9.510565e-01 -3.090170e-01\n",
      "79   7.9 -8.090170e-01  5.877853e-01\n",
      "80   8.0 -2.939152e-15  1.000000e+00\n",
      "81   8.1  8.090170e-01  5.877853e-01\n",
      "82   8.2  9.510565e-01 -3.090170e-01\n",
      "83   8.3  3.090170e-01 -9.510565e-01\n",
      "84   8.4 -5.877853e-01 -8.090170e-01\n",
      "85   8.5 -1.000000e+00 -4.899206e-15\n",
      "86   8.6 -5.877853e-01  8.090170e-01\n",
      "87   8.7  3.090170e-01  9.510565e-01\n",
      "88   8.8  9.510565e-01  3.090170e-01\n",
      "89   8.9  8.090170e-01 -5.877853e-01\n",
      "90   9.0  6.859260e-15 -1.000000e+00\n",
      "91   9.1 -8.090170e-01 -5.877853e-01\n",
      "92   9.2 -9.510565e-01  3.090170e-01\n",
      "93   9.3 -3.090170e-01  9.510565e-01\n",
      "94   9.4  5.877853e-01  8.090170e-01\n",
      "95   9.5  1.000000e+00  8.819314e-15\n",
      "96   9.6  5.877853e-01 -8.090170e-01\n",
      "97   9.7 -3.090170e-01 -9.510565e-01\n",
      "98   9.8 -9.510565e-01 -3.090170e-01\n",
      "99   9.9 -8.090170e-01  5.877853e-01\n",
      "\n",
      "[100 rows x 3 columns]\n"
     ]
    }
   ],
   "source": [
    "print(df)"
   ]
  },
  {
   "cell_type": "code",
   "execution_count": 10,
   "metadata": {},
   "outputs": [
    {
     "name": "stdout",
     "output_type": "stream",
     "text": [
      "   Time     YVals     ZVals\n",
      "0   0.0  0.000000  1.000000\n",
      "1   0.1  0.809017  0.587785\n",
      "2   0.2  0.951057 -0.309017\n",
      "3   0.3  0.309017 -0.951057\n",
      "4   0.4 -0.587785 -0.809017\n"
     ]
    }
   ],
   "source": [
    "print(df.head())"
   ]
  },
  {
   "cell_type": "code",
   "execution_count": 11,
   "metadata": {},
   "outputs": [
    {
     "name": "stdout",
     "output_type": "stream",
     "text": [
      "Data written to out.txt\n",
      "DoneDone\n"
     ]
    },
    {
     "data": {
      "text/plain": [
       "'Done'"
      ]
     },
     "execution_count": 11,
     "metadata": {},
     "output_type": "execute_result"
    }
   ],
   "source": [
    "outfile = 'out.txt'\n",
    "df[10:16][['YVals', 'ZVals']].to_csv(outfile)\n",
    "print('Data written to {0}'.format(outfile))\n",
    "input('Done')"
   ]
  },
  {
   "cell_type": "code",
   "execution_count": null,
   "metadata": {},
   "outputs": [],
   "source": []
  }
 ],
 "metadata": {
  "kernelspec": {
   "display_name": "Python 3",
   "language": "python",
   "name": "python3"
  },
  "language_info": {
   "codemirror_mode": {
    "name": "ipython",
    "version": 3
   },
   "file_extension": ".py",
   "mimetype": "text/x-python",
   "name": "python",
   "nbconvert_exporter": "python",
   "pygments_lexer": "ipython3",
   "version": "3.7.1"
  }
 },
 "nbformat": 4,
 "nbformat_minor": 2
}
